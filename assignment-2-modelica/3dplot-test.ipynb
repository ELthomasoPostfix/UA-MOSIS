{
 "cells": [
  {
   "cell_type": "code",
   "execution_count": 1,
   "id": "initial_id",
   "metadata": {
    "collapsed": true,
    "ExecuteTime": {
     "end_time": "2023-11-10T12:40:38.673202600Z",
     "start_time": "2023-11-10T12:40:38.639112900Z"
    }
   },
   "outputs": [],
   "source": [
    "import pandas as pd\n",
    "import seaborn as sns\n",
    "import matplotlib as mpl\n",
    "import matplotlib.pyplot as plt\n",
    "import numpy as np\n",
    "from mpl_toolkits.mplot3d import Axes3D\n",
    "import imageio\n",
    "import os\n",
    "from ipywidgets import widgets"
   ]
  },
  {
   "cell_type": "code",
   "execution_count": 39,
   "outputs": [
    {
     "data": {
      "text/plain": "       Kp  Ki  Kd      RMSE\n0     210   1   1  0.581014\n1     210   1   2  0.471163\n2     210   1   3  0.417737\n3     210   1   4  0.388121\n4     210   1   5  0.368037\n...   ...  ..  ..       ...\n7595  390  20  16  0.161619\n7596  390  20  17  0.159330\n7597  390  20  18  0.157274\n7598  390  20  19  0.155425\n7599  390  20  20  0.153750\n\n[7600 rows x 4 columns]",
      "text/html": "<div>\n<style scoped>\n    .dataframe tbody tr th:only-of-type {\n        vertical-align: middle;\n    }\n\n    .dataframe tbody tr th {\n        vertical-align: top;\n    }\n\n    .dataframe thead th {\n        text-align: right;\n    }\n</style>\n<table border=\"1\" class=\"dataframe\">\n  <thead>\n    <tr style=\"text-align: right;\">\n      <th></th>\n      <th>Kp</th>\n      <th>Ki</th>\n      <th>Kd</th>\n      <th>RMSE</th>\n    </tr>\n  </thead>\n  <tbody>\n    <tr>\n      <td>0</td>\n      <td>210</td>\n      <td>1</td>\n      <td>1</td>\n      <td>0.581014</td>\n    </tr>\n    <tr>\n      <td>1</td>\n      <td>210</td>\n      <td>1</td>\n      <td>2</td>\n      <td>0.471163</td>\n    </tr>\n    <tr>\n      <td>2</td>\n      <td>210</td>\n      <td>1</td>\n      <td>3</td>\n      <td>0.417737</td>\n    </tr>\n    <tr>\n      <td>3</td>\n      <td>210</td>\n      <td>1</td>\n      <td>4</td>\n      <td>0.388121</td>\n    </tr>\n    <tr>\n      <td>4</td>\n      <td>210</td>\n      <td>1</td>\n      <td>5</td>\n      <td>0.368037</td>\n    </tr>\n    <tr>\n      <td>...</td>\n      <td>...</td>\n      <td>...</td>\n      <td>...</td>\n      <td>...</td>\n    </tr>\n    <tr>\n      <td>7595</td>\n      <td>390</td>\n      <td>20</td>\n      <td>16</td>\n      <td>0.161619</td>\n    </tr>\n    <tr>\n      <td>7596</td>\n      <td>390</td>\n      <td>20</td>\n      <td>17</td>\n      <td>0.159330</td>\n    </tr>\n    <tr>\n      <td>7597</td>\n      <td>390</td>\n      <td>20</td>\n      <td>18</td>\n      <td>0.157274</td>\n    </tr>\n    <tr>\n      <td>7598</td>\n      <td>390</td>\n      <td>20</td>\n      <td>19</td>\n      <td>0.155425</td>\n    </tr>\n    <tr>\n      <td>7599</td>\n      <td>390</td>\n      <td>20</td>\n      <td>20</td>\n      <td>0.153750</td>\n    </tr>\n  </tbody>\n</table>\n<p>7600 rows × 4 columns</p>\n</div>"
     },
     "execution_count": 39,
     "metadata": {},
     "output_type": "execute_result"
    }
   ],
   "source": [
    "# Load in gain_data.csv, first column is the index\n",
    "gain_data = pd.read_csv('gain_data.csv', index_col=0)\n",
    "gain_data"
   ],
   "metadata": {
    "collapsed": false,
    "ExecuteTime": {
     "end_time": "2023-11-10T13:09:34.762127600Z",
     "start_time": "2023-11-10T13:09:34.748078700Z"
    }
   },
   "id": "389edb90386fd69f"
  },
  {
   "cell_type": "code",
   "execution_count": 3,
   "outputs": [],
   "source": [
    "# Initialise seaborn\n",
    "sns.set_style(style=\"whitegrid\")"
   ],
   "metadata": {
    "collapsed": false,
    "ExecuteTime": {
     "end_time": "2023-11-10T12:40:38.723063600Z",
     "start_time": "2023-11-10T12:40:38.694236800Z"
    }
   },
   "id": "2fd6781e90e0cdc9"
  },
  {
   "cell_type": "code",
   "execution_count": 34,
   "outputs": [
    {
     "data": {
      "text/plain": "(7600, 4)"
     },
     "execution_count": 34,
     "metadata": {},
     "output_type": "execute_result"
    }
   ],
   "source": [
    "gain_data.shape"
   ],
   "metadata": {
    "collapsed": false,
    "ExecuteTime": {
     "end_time": "2023-11-10T00:31:12.657747600Z",
     "start_time": "2023-11-10T00:31:12.642742300Z"
    }
   },
   "id": "ff29447df44584ae"
  },
  {
   "cell_type": "code",
   "execution_count": 4,
   "outputs": [],
   "source": [
    "# Get the RMSE min and max values\n",
    "RMSE_min = gain_data['RMSE'].min()\n",
    "RMSE_max = gain_data['RMSE'].max()"
   ],
   "metadata": {
    "collapsed": false,
    "ExecuteTime": {
     "end_time": "2023-11-10T12:40:41.164142700Z",
     "start_time": "2023-11-10T12:40:41.149592200Z"
    }
   },
   "id": "9c3f436bbcdc3252"
  },
  {
   "cell_type": "code",
   "execution_count": 90,
   "outputs": [],
   "source": [
    "# Generalize above function to plot any 3 variables\n",
    "def plot_3d_plane(data, x, y, z, title, filename, flip_x=False, flip_y=False, flip_z=False):\n",
    "    RMSE_min = data['RMSE'].min()\n",
    "    RMSE_max = data['RMSE'].max()\n",
    "    \n",
    "    with imageio.get_writer(filename + \".gif\", mode='I', duration=0.15) as writer:\n",
    "        \n",
    "        for i, x_val in enumerate(data[x].unique()):\n",
    "            # Filter data for current x\n",
    "            data_x = data[data[x] == x_val]\n",
    "                \n",
    "            # Create figure\n",
    "            fig = plt.figure(figsize=(10, 10))\n",
    "            ax = fig.add_subplot(111, projection='3d')\n",
    "            \n",
    "\n",
    "            # Set RMSE limits\n",
    "            ax.set_zlim(RMSE_min, RMSE_max)\n",
    "            \n",
    "        \n",
    "            # Plot data as a plane\n",
    "            # ax.plot_trisurf(data_x[y] if not flip_y else data_x[y][::-1],\n",
    "            #                 data_x[z] if not flip_z else data_x[z][::-1],\n",
    "            #                 data_x['RMSE'], cmap='viridis', edgecolors='none', shade=\"gouraud\", antialiased=False, linewidth=0.0)\n",
    "            \n",
    "                  \n",
    "            # Increase the number of points to make the surface smoother via interpolation\n",
    "            data_interp = data_x.interpolate(method='cubic', limit_direction='both', limit=10)\n",
    "            \n",
    "            # Rewrite the above to make the colors consistent (use RMSE_max as actual max color)\n",
    "            ax.plot_trisurf(data_interp[y] if not flip_y else data_interp[y][::-1],\n",
    "                            data_interp[z] if not flip_z else data_interp[z][::-1],\n",
    "                            data_interp['RMSE'], edgecolors='none', cmap=\"rocket_r\", shade=True, antialiased=False, linewidth=0.0, vmin=RMSE_min, vmax=RMSE_max)                             \n",
    "            \n",
    "            # Set labels\n",
    "            ax.set_xlabel(y)\n",
    "            ax.set_ylabel(z)\n",
    "            ax.set_zlabel('RMSE')\n",
    "            ax.set_title('{} = {}'.format(x, x_val))\n",
    "            \n",
    "            # Change view angle based on current index\n",
    "            # ax.view_init(elev=30, azim=10 + i * 2)\n",
    "            \n",
    "            # Make graph fit imagesize\n",
    "            plt.tight_layout()\n",
    "            \n",
    "            # Save figure\n",
    "            fig.savefig('{}_{}.png'.format(filename, x_val))\n",
    "            # Add figure to GIF\n",
    "            writer.append_data(imageio.imread('{}_{}.png'.format(filename, x_val)))\n",
    "            # Close figure\n",
    "            plt.close(fig)\n",
    "            \n",
    "        # Loop over the generated images in reverse and append them to the GIF\n",
    "        for x_val in data[x].unique()[::-1]:\n",
    "            writer.append_data(imageio.imread('{}_{}.png'.format(filename, x_val)))\n",
    "            \n",
    "    # Clear all temp generated files\n",
    "    # for file in os.listdir():\n",
    "    #     if file.startswith('{}_'.format(filename)) and file.endswith('.png'):\n",
    "    #         os.remove(file)\n",
    "    \n",
    "    # Return GIF path\n",
    "    return filename + '.gif'"
   ],
   "metadata": {
    "collapsed": false,
    "ExecuteTime": {
     "end_time": "2023-11-10T13:45:08.951879900Z",
     "start_time": "2023-11-10T13:45:08.947367900Z"
    }
   },
   "id": "c2f8a7fc9d956ccc"
  },
  {
   "cell_type": "code",
   "execution_count": 91,
   "outputs": [
    {
     "data": {
      "text/plain": "Image(value=b'GIF89a\\xd0\\x02\\xd0\\x02\\x87\\x00\\x00\\xff\\xff\\xff\\xfe\\xfe\\xfe\\xfd\\xfd\\xfd\\xfc\\xfc\\xfc\\xfb\\xfb\\xfb\\x…",
      "application/vnd.jupyter.widget-view+json": {
       "version_major": 2,
       "version_minor": 0,
       "model_id": "5fcf128158ec4656a80e0a7ab6d15d38"
      }
     },
     "metadata": {},
     "output_type": "display_data"
    }
   ],
   "source": [
    "# Plot Kd and Kp with Ki sliding\n",
    "gif = plot_3d_plane(gain_data, 'Ki', 'Kd', 'Kp', 'Ki', 'Ki_Kd_Kp', flip_x=False, flip_y=False, flip_z=True)\n",
    "# Show GIF in notebook\n",
    "with open(gif,'rb') as file:\n",
    "    display(widgets.Image(value=file.read(), format='png'))"
   ],
   "metadata": {
    "collapsed": false,
    "ExecuteTime": {
     "end_time": "2023-11-10T13:45:13.675402Z",
     "start_time": "2023-11-10T13:45:09.998348600Z"
    }
   },
   "id": "a225540b515567ba"
  },
  {
   "cell_type": "code",
   "execution_count": 92,
   "outputs": [
    {
     "data": {
      "text/plain": "Image(value=b'GIF89a\\xd0\\x02\\xd0\\x02\\x87\\x00\\x00\\xff\\xff\\xff\\xfe\\xfe\\xfe\\xfd\\xfd\\xfd\\xfc\\xfc\\xfc\\xfb\\xfb\\xfb\\x…",
      "application/vnd.jupyter.widget-view+json": {
       "version_major": 2,
       "version_minor": 0,
       "model_id": "84a1792564734fbeb76560028c96c3b4"
      }
     },
     "metadata": {},
     "output_type": "display_data"
    }
   ],
   "source": [
    "# Plot Kp and Ki with Kd sliding\n",
    "gif = plot_3d_plane(gain_data, 'Kd', 'Kp', 'Ki', 'Kd', 'Kd_Kp_Ki', flip_x=False, flip_y=False, flip_z=False)\n",
    "# Show GIF in notebook\n",
    "with open(gif,'rb') as file:\n",
    "    display(widgets.Image(value=file.read(), format='png'))"
   ],
   "metadata": {
    "collapsed": false,
    "ExecuteTime": {
     "end_time": "2023-11-10T13:46:24.073545800Z",
     "start_time": "2023-11-10T13:46:20.385156Z"
    }
   },
   "id": "7636891bc4103105"
  },
  {
   "cell_type": "code",
   "execution_count": 93,
   "outputs": [
    {
     "data": {
      "text/plain": "Image(value=b'GIF89a\\xd0\\x02\\xd0\\x02\\x87\\x00\\x00\\xff\\xff\\xff\\xfe\\xfe\\xfe\\xfd\\xfd\\xfd\\xfc\\xfc\\xfc\\xfb\\xfb\\xfb\\x…",
      "application/vnd.jupyter.widget-view+json": {
       "version_major": 2,
       "version_minor": 0,
       "model_id": "68e6b5f9367e4c30882fefeba7e7b0e8"
      }
     },
     "metadata": {},
     "output_type": "display_data"
    }
   ],
   "source": [
    "# Plot Ki and Kd with Kp sliding\n",
    "gif = plot_3d_plane(gain_data, 'Kp', 'Ki', 'Kd', 'Kp', 'Kp_Ki_Kd', flip_x=False, flip_y=True, flip_z=True)\n",
    "# Show GIF in notebook\n",
    "with open(gif,'rb') as file:\n",
    "    display(widgets.Image(value=file.read(), format='png'))"
   ],
   "metadata": {
    "collapsed": false,
    "ExecuteTime": {
     "end_time": "2023-11-10T13:46:46.947569400Z",
     "start_time": "2023-11-10T13:46:42.722515Z"
    }
   },
   "id": "e0368dbecdcc8045"
  }
 ],
 "metadata": {
  "kernelspec": {
   "display_name": "Python 3",
   "language": "python",
   "name": "python3"
  },
  "language_info": {
   "codemirror_mode": {
    "name": "ipython",
    "version": 2
   },
   "file_extension": ".py",
   "mimetype": "text/x-python",
   "name": "python",
   "nbconvert_exporter": "python",
   "pygments_lexer": "ipython2",
   "version": "2.7.6"
  }
 },
 "nbformat": 4,
 "nbformat_minor": 5
}
